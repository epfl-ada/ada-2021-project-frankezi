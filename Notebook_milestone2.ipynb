{
  "nbformat": 4,
  "nbformat_minor": 0,
  "metadata": {
    "colab": {
      "name": "Notebook_milestone2.ipynb",
      "provenance": [],
      "collapsed_sections": []
    },
    "kernelspec": {
      "display_name": "Python 3",
      "name": "python3"
    },
    "language_info": {
      "name": "python"
    }
  },
  "cells": [
    {
      "cell_type": "markdown",
      "metadata": {
        "id": "El9xm-TPhyoZ"
      },
      "source": [
        "# 0. Preliminary steps"
      ]
    },
    {
      "cell_type": "markdown",
      "metadata": {
        "id": "xsNwb_PpiE-S"
      },
      "source": [
        "1. First we mount the Google Drive."
      ]
    },
    {
      "cell_type": "code",
      "metadata": {
        "colab": {
          "base_uri": "https://localhost:8080/"
        },
        "id": "igZIykQxk_sT",
        "outputId": "661322a4-55f5-477d-efed-cb7f1a42bbec"
      },
      "source": [
        "from google.colab import drive\n",
        "drive.mount('/content/drive')\n"
      ],
      "execution_count": 103,
      "outputs": [
        {
          "output_type": "stream",
          "name": "stdout",
          "text": [
            "Drive already mounted at /content/drive; to attempt to forcibly remount, call drive.mount(\"/content/drive\", force_remount=True).\n"
          ]
        }
      ]
    },
    {
      "cell_type": "markdown",
      "metadata": {
        "id": "nXtLsqL9iCFq"
      },
      "source": [
        "2. We install necessary dependencies."
      ]
    },
    {
      "cell_type": "code",
      "metadata": {
        "colab": {
          "base_uri": "https://localhost:8080/"
        },
        "id": "YTo3sc5slCIb",
        "outputId": "65645acd-d151-460f-9b9d-bd31d23aea20"
      },
      "source": [
        "!pip install tld"
      ],
      "execution_count": 104,
      "outputs": [
        {
          "output_type": "stream",
          "name": "stdout",
          "text": [
            "Requirement already satisfied: tld in /usr/local/lib/python3.7/dist-packages (0.12.6)\n"
          ]
        }
      ]
    },
    {
      "cell_type": "code",
      "metadata": {
        "colab": {
          "base_uri": "https://localhost:8080/"
        },
        "id": "0l7gO31oiArX",
        "outputId": "f534324d-a3ca-4597-ca5e-e7c44a7af1ea"
      },
      "source": [
        "!pip install tqdm"
      ],
      "execution_count": 105,
      "outputs": [
        {
          "output_type": "stream",
          "name": "stdout",
          "text": [
            "Requirement already satisfied: tqdm in /usr/local/lib/python3.7/dist-packages (4.62.3)\n"
          ]
        }
      ]
    },
    {
      "cell_type": "markdown",
      "metadata": {
        "id": "LFEmZCVxiHda"
      },
      "source": [
        "3. Then we import all the necessary libraries for our project."
      ]
    },
    {
      "cell_type": "code",
      "metadata": {
        "id": "3N8cqO7WiJmI"
      },
      "source": [
        "import os\n",
        "import bz2\n",
        "import json\n",
        "\n",
        "import pandas as pd\n",
        "import numpy as np\n",
        "from tqdm import tqdm"
      ],
      "execution_count": 106,
      "outputs": []
    },
    {
      "cell_type": "markdown",
      "metadata": {
        "id": "5ptZxlaQnCPO"
      },
      "source": [
        "# 1. Data pre-processing"
      ]
    },
    {
      "cell_type": "markdown",
      "metadata": {
        "id": "7n2zy_q3iSyr"
      },
      "source": [
        "### **1.0** Quality of life"
      ]
    },
    {
      "cell_type": "markdown",
      "metadata": {
        "id": "Bhs6vddziXvm"
      },
      "source": [
        "We maintain a data structure called `file_info` which allows us to easily reference a file with its path, and gives us the file's uncompressed size, which is useful for progress bars using `tqdm`."
      ]
    },
    {
      "cell_type": "code",
      "metadata": {
        "id": "HTsuOAsrifYJ"
      },
      "source": [
        "# File info (useful for progress bars, no need to re-compute)\n",
        "# File size is the size of the uncompressed file, in bytes\n",
        "# n_items is the number of instances contained in the file\n",
        "# In all cases, 'None' means the data hasn't been computed yet\n",
        "file_info = {\n",
        "    '2020': {'path':'/content/drive/MyDrive/Quotebank/quotes-2020.json.bz2', 'size': 3850176284, 'n_items': None},\n",
        "    '2019': {'path':'/content/drive/MyDrive/Quotebank/quotes-2019.json.bz2', 'size': 16354868483, 'n_items': None},\n",
        "    '2018': {'path':'/content/drive/MyDrive/Quotebank/quotes-2018.json.bz2', 'size': 22665822486, 'n_items': None},\n",
        "    '2017': {'path':'/content/drive/MyDrive/Quotebank/quotes-2017.json.bz2', 'size': 24502223120, 'n_items': None},\n",
        "    '2016': {'path':'/content/drive/MyDrive/Quotebank/quotes-2016.json.bz2', 'size': 10584617634, 'n_items': None},\n",
        "    '2015': {'path':'/content/drive/MyDrive/Quotebank/quotes-2015.json.bz2', 'size': 14797890201, 'n_items': None},\n",
        "    'test': {'path':'/content/drive/MyDrive/ADA2/quotes-test.json.bz2', 'size': 40666307, 'n_items': None},\n",
        "}"
      ],
      "execution_count": 107,
      "outputs": []
    },
    {
      "cell_type": "code",
      "metadata": {
        "id": "-2rxoihCiZo_"
      },
      "source": [
        "def get_uncompressed_size(id):\n",
        "  \"\"\"Decompress a .bz2 file and return its size\"\"\"\n",
        "  with bz2.open(file_info[id]['path'], 'rb') as f:\n",
        "    f.seek(0, os.SEEK_END)\n",
        "    return f.tell()"
      ],
      "execution_count": 108,
      "outputs": []
    },
    {
      "cell_type": "code",
      "metadata": {
        "id": "ZjMy7gVeiaHr"
      },
      "source": [
        "# Example execution (don't run, it takes ages)\n",
        "# print(get_uncompressed_size('2020'))"
      ],
      "execution_count": 109,
      "outputs": []
    },
    {
      "cell_type": "markdown",
      "metadata": {
        "id": "oIp8OhQFij0I"
      },
      "source": [
        "### **1.1** Preliminary data extraction"
      ]
    },
    {
      "cell_type": "markdown",
      "metadata": {
        "id": "rJhfQVY9inrM"
      },
      "source": [
        "Having computed the file sizes, we are now ready to do some preliminary data extraction and exploration. First, we check what the first line of a file looks like:"
      ]
    },
    {
      "cell_type": "code",
      "metadata": {
        "colab": {
          "base_uri": "https://localhost:8080/"
        },
        "id": "rxHiVRs3io_H",
        "outputId": "a37d4df1-26fd-4573-fe23-472a71d15548"
      },
      "source": [
        "with(bz2.open(file_info['2020']['path'], 'rb')) as f:\n",
        "  for instance in f:\n",
        "    print(json.loads(instance))\n",
        "    break"
      ],
      "execution_count": 110,
      "outputs": [
        {
          "output_type": "stream",
          "name": "stdout",
          "text": [
            "{'quoteID': '2020-01-28-000082', 'quotation': '[ D ] espite the efforts of the partners to create a non-political award that unites the Jewish people, some have incorrectly interpreted the participation of the Office of the Prime Minister in the Genesis Prize as bringing a political dimension to this important initiative,', 'speaker': 'None', 'qids': [], 'date': '2020-01-28 08:04:05', 'numOccurrences': 1, 'probas': [['None', '0.7272'], ['Prime Minister Netanyahu', '0.2445'], ['Natan Sharansky', '0.0283']], 'urls': ['http://israelnationalnews.com/News/News.aspx/275210'], 'phase': 'E'}\n"
          ]
        }
      ]
    },
    {
      "cell_type": "markdown",
      "metadata": {
        "id": "C5noFiPSirvm"
      },
      "source": [
        "Lines are JSON strings, with many attributes, including the `quotation`. For our project, we would like to extract all quotes relating to China (and more generally Eastern Asia) from the provided datasets.<br>\n",
        "We define the function `get_quotes`, which goes through a file and retrieves all elements which satisfy a predicate."
      ]
    },
    {
      "cell_type": "code",
      "metadata": {
        "id": "OoMiSZQeisZm"
      },
      "source": [
        "def get_quotes(id, predicate, out=None, out_path=None):\n",
        "  \"\"\"\n",
        "  Get all quotes from a given file that satisfy a predicate.\n",
        "  This function both writes the result to a file, if the path is specified,\n",
        "  and returns a list of filtered quotes.\n",
        "  \"\"\"\n",
        "  if ((out != None) and (out_path == None)):\n",
        "    out = None\n",
        "  if (out == None):\n",
        "    out_path = '/content/tmp.json.bz2'\n",
        "  \n",
        "  # Setup progress bar\n",
        "  size = file_info[id]['size']\n",
        "  with tqdm(total=size) as pbar:\n",
        "\n",
        "    with bz2.open(out_path, 'wb') as f_out:\n",
        "      with bz2.open(file_info[id]['path'], 'rb') as f:\n",
        "        quotes = []\n",
        "        for instance in f:\n",
        "          pbar.update(len(instance))\n",
        "          instance = json.loads(instance)\n",
        "          if (predicate(instance)):\n",
        "            quotes.append(instance)\n",
        "            f_out.write((json.dumps(instance)+'\\n').encode('utf-8'))\n",
        "\n",
        "      # Write information back to file_info if `out` was specified\n",
        "      if (out != None):\n",
        "        file_info.update({out: {\n",
        "          'path':out_path, 'size': f_out.tell(), 'n_items': len(quotes)\n",
        "        }})\n",
        "    return quotes"
      ],
      "execution_count": 111,
      "outputs": []
    },
    {
      "cell_type": "markdown",
      "metadata": {
        "id": "CR6oMyuok6yR"
      },
      "source": [
        "We decide to focus on subtil propaganda; that means, we are not looking for quotes contening direct racial insults."
      ]
    },
    {
      "cell_type": "code",
      "metadata": {
        "id": "CrXTOxKbiunK"
      },
      "source": [
        "search_terms = [\n",
        "  'China',\n",
        "  'Chinese',\n",
        "  'President Xi',\n",
        "  'Xi Xinping',\n",
        "  'Asia',\n",
        "  'East Asia',\n",
        "  'Xinjiang',\n",
        "  'Wuhan',\n",
        "  'Beijing',\n",
        "  'Mandarin',\n",
        "  'Chinese virus',\n",
        "  'Republic of China',\n",
        "]"
      ],
      "execution_count": 112,
      "outputs": []
    },
    {
      "cell_type": "code",
      "metadata": {
        "id": "jKUF0AeNixLn"
      },
      "source": [
        "# Note: all predicates should be functions with the signature:\n",
        "#    (i) -> {True, False}\n",
        "# where i is a parsed JSON instance from the file.\n",
        "\n",
        "def predicate_quotation_contents(instance):\n",
        "  quote = instance['quotation']\n",
        "  return any(word in quote for word in search_terms)"
      ],
      "execution_count": 113,
      "outputs": []
    },
    {
      "cell_type": "code",
      "metadata": {
        "colab": {
          "base_uri": "https://localhost:8080/"
        },
        "id": "s_Cb_Nk5i492",
        "outputId": "d946c468-c11b-46a8-af10-cb32c17cf227"
      },
      "source": [
        "# Test the code out on the 2020 dataset\n",
        "test_path = '/content/drive/MyDrive/ADA2/quotes-test.json.bz2'\n",
        "if (not os.path.exists(test_path)):\n",
        "  print('Generating file')\n",
        "  quotes = get_quotes('2020', predicate_quotation_contents, out='test', out_path=test_path)\n",
        "else:\n",
        "  print('File already generated, find it at {path}'.format(path=test_path))"
      ],
      "execution_count": 114,
      "outputs": [
        {
          "output_type": "stream",
          "name": "stdout",
          "text": [
            "File already generated, find it at /content/drive/MyDrive/ADA2/quotes-test.json.bz2\n"
          ]
        }
      ]
    },
    {
      "cell_type": "code",
      "metadata": {
        "colab": {
          "base_uri": "https://localhost:8080/"
        },
        "id": "lB5GSzvei7xV",
        "outputId": "d65471fb-4f68-4609-a355-baf9572bfb00"
      },
      "source": [
        "# Get an idea of the retrieved data\n",
        "with(bz2.open(file_info['test']['path'], 'rb')) as f:\n",
        "  for instance in f:\n",
        "    print(json.loads(instance))\n",
        "    break\n",
        "\n",
        "print(file_info['test'])"
      ],
      "execution_count": 115,
      "outputs": [
        {
          "output_type": "stream",
          "name": "stdout",
          "text": [
            "{'quoteID': '2020-02-07-008586', 'quotation': \"Asian inclusion and celebrating diversity more widely are a key focus for us and, having recently met with the president and senior officials of the All Nepal Football Association (ANFA), and the Nepali minister for youth and sport, we share their excitement for this event. We're looking forward to sharing this experience with the local community in Aldershot.\", 'speaker': 'Laurence Jones', 'qids': ['Q26884000', 'Q27430504'], 'date': '2020-02-07 10:43:24', 'numOccurrences': 1, 'probas': [['Laurence Jones', '0.7837'], ['None', '0.2055'], ['Paul Fairclough', '0.0108']], 'urls': ['http://www.thefa.com/news/2020/feb/07/england-c-to-play-nepal-in-aldershot-070220'], 'phase': 'E'}\n",
            "{'path': '/content/drive/MyDrive/ADA2/quotes-test.json.bz2', 'size': 40666307, 'n_items': None}\n"
          ]
        }
      ]
    },
    {
      "cell_type": "markdown",
      "metadata": {
        "id": "0PKAf2jDlIZW"
      },
      "source": [
        "/!\\ Some quotes have multiple QID in the column \"qids\" referencing the same name, we will see later how to resolve this problem."
      ]
    },
    {
      "cell_type": "markdown",
      "metadata": {
        "id": "xo54od8ljVOF"
      },
      "source": [
        "We create `file_to_dataframe`which will able us to load our retrieved quotes into a pandas Dataframe (easier to analyse)."
      ]
    },
    {
      "cell_type": "code",
      "metadata": {
        "id": "8kNTTjnGlnZ9"
      },
      "source": [
        "def file_to_dataframe(id):\n",
        "  \"\"\"Read a .bz2 file of JSON instances and load the data in a Pandas DataFrame\"\"\"\n",
        "  instances = []\n",
        "  with tqdm(total=file_info[id]['size']) as pbar:\n",
        "    with bz2.open(file_info[id]['path'], 'rb') as f:\n",
        "      for instance in f:\n",
        "        pbar.update(len(instance))\n",
        "        instances.append(json.loads(instance))\n",
        "\n",
        "  quotes_df = pd.DataFrame(instances)\n",
        "  return quotes_df"
      ],
      "execution_count": 116,
      "outputs": []
    },
    {
      "cell_type": "markdown",
      "metadata": {
        "id": "Q3P2hr08kdJS"
      },
      "source": [
        "We test `file_to_dataframe`on the 2020 data to observe more the information that we can get about a quotation."
      ]
    },
    {
      "cell_type": "code",
      "metadata": {
        "colab": {
          "base_uri": "https://localhost:8080/",
          "height": 810
        },
        "id": "Vv4NuROClok0",
        "outputId": "7481567f-9e29-4092-ce14-a2453673f113"
      },
      "source": [
        "# Load the quotes retrieved in part 1 (still only test 2020 data)\n",
        "quotes_df = file_to_dataframe('test')\n",
        "quotes_df"
      ],
      "execution_count": 117,
      "outputs": [
        {
          "output_type": "stream",
          "name": "stderr",
          "text": [
            "100%|██████████| 40666307/40666307 [00:08<00:00, 4571769.74it/s]\n"
          ]
        },
        {
          "output_type": "execute_result",
          "data": {
            "text/html": [
              "<div>\n",
              "<style scoped>\n",
              "    .dataframe tbody tr th:only-of-type {\n",
              "        vertical-align: middle;\n",
              "    }\n",
              "\n",
              "    .dataframe tbody tr th {\n",
              "        vertical-align: top;\n",
              "    }\n",
              "\n",
              "    .dataframe thead th {\n",
              "        text-align: right;\n",
              "    }\n",
              "</style>\n",
              "<table border=\"1\" class=\"dataframe\">\n",
              "  <thead>\n",
              "    <tr style=\"text-align: right;\">\n",
              "      <th></th>\n",
              "      <th>quoteID</th>\n",
              "      <th>quotation</th>\n",
              "      <th>speaker</th>\n",
              "      <th>qids</th>\n",
              "      <th>date</th>\n",
              "      <th>numOccurrences</th>\n",
              "      <th>probas</th>\n",
              "      <th>urls</th>\n",
              "      <th>phase</th>\n",
              "    </tr>\n",
              "  </thead>\n",
              "  <tbody>\n",
              "    <tr>\n",
              "      <th>0</th>\n",
              "      <td>2020-02-07-008586</td>\n",
              "      <td>Asian inclusion and celebrating diversity more...</td>\n",
              "      <td>Laurence Jones</td>\n",
              "      <td>[Q26884000, Q27430504]</td>\n",
              "      <td>2020-02-07 10:43:24</td>\n",
              "      <td>1</td>\n",
              "      <td>[[Laurence Jones, 0.7837], [None, 0.2055], [Pa...</td>\n",
              "      <td>[http://www.thefa.com/news/2020/feb/07/england...</td>\n",
              "      <td>E</td>\n",
              "    </tr>\n",
              "    <tr>\n",
              "      <th>1</th>\n",
              "      <td>2020-03-03-009635</td>\n",
              "      <td>Concerns about current and ongoing reliable As...</td>\n",
              "      <td>None</td>\n",
              "      <td>[]</td>\n",
              "      <td>2020-03-03 02:32:50</td>\n",
              "      <td>2</td>\n",
              "      <td>[[None, 0.904], [Jim Bianco, 0.096]]</td>\n",
              "      <td>[http://www.arkansasonline.com/news/2020/mar/0...</td>\n",
              "      <td>E</td>\n",
              "    </tr>\n",
              "    <tr>\n",
              "      <th>2</th>\n",
              "      <td>2020-04-09-018179</td>\n",
              "      <td>I can't believe he's talking about politics wh...</td>\n",
              "      <td>President Trump</td>\n",
              "      <td>[Q22686]</td>\n",
              "      <td>2020-04-09 08:45:13</td>\n",
              "      <td>1</td>\n",
              "      <td>[[President Trump, 0.7307], [None, 0.2433], [T...</td>\n",
              "      <td>[https://www.prisonplanet.com/disgusting-who-c...</td>\n",
              "      <td>E</td>\n",
              "    </tr>\n",
              "    <tr>\n",
              "      <th>3</th>\n",
              "      <td>2020-01-24-035543</td>\n",
              "      <td>I think there should be an arm's length relati...</td>\n",
              "      <td>None</td>\n",
              "      <td>[]</td>\n",
              "      <td>2020-01-24 01:51:00</td>\n",
              "      <td>4</td>\n",
              "      <td>[[None, 0.9213], [David Perry, 0.0641], [Meng ...</td>\n",
              "      <td>[http://bc.ctvnews.ca/security-guard-enforcing...</td>\n",
              "      <td>E</td>\n",
              "    </tr>\n",
              "    <tr>\n",
              "      <th>4</th>\n",
              "      <td>2020-04-09-028183</td>\n",
              "      <td>in the pocket of China</td>\n",
              "      <td>Tom Cotton</td>\n",
              "      <td>[Q3090307]</td>\n",
              "      <td>2020-04-09 00:00:00</td>\n",
              "      <td>2</td>\n",
              "      <td>[[Tom Cotton, 0.7595], [None, 0.2075], [Tedros...</td>\n",
              "      <td>[http://www.foxnews.com/media/sen-tom-cotton-w...</td>\n",
              "      <td>E</td>\n",
              "    </tr>\n",
              "    <tr>\n",
              "      <th>...</th>\n",
              "      <td>...</td>\n",
              "      <td>...</td>\n",
              "      <td>...</td>\n",
              "      <td>...</td>\n",
              "      <td>...</td>\n",
              "      <td>...</td>\n",
              "      <td>...</td>\n",
              "      <td>...</td>\n",
              "      <td>...</td>\n",
              "    </tr>\n",
              "    <tr>\n",
              "      <th>46259</th>\n",
              "      <td>2020-03-02-055278</td>\n",
              "      <td>The game in China will be officially cancelled...</td>\n",
              "      <td>Theo Doropoulos</td>\n",
              "      <td>[Q7781445]</td>\n",
              "      <td>2020-03-02 21:47:23</td>\n",
              "      <td>1</td>\n",
              "      <td>[[Theo Doropoulos, 0.9072], [None, 0.0654], [S...</td>\n",
              "      <td>[http://fiveaa.com.au/sport/reports-port-adela...</td>\n",
              "      <td>E</td>\n",
              "    </tr>\n",
              "    <tr>\n",
              "      <th>46260</th>\n",
              "      <td>2020-02-27-070818</td>\n",
              "      <td>The sudden outbreak of a new coronavirus is ve...</td>\n",
              "      <td>Chandra Wickramasinghe</td>\n",
              "      <td>[Q765741]</td>\n",
              "      <td>2020-02-27 15:05:40</td>\n",
              "      <td>1</td>\n",
              "      <td>[[Chandra Wickramasinghe, 0.6195], [None, 0.38...</td>\n",
              "      <td>[https://wegotthiscovered.com/movies/british-s...</td>\n",
              "      <td>E</td>\n",
              "    </tr>\n",
              "    <tr>\n",
              "      <th>46261</th>\n",
              "      <td>2020-01-28-085486</td>\n",
              "      <td>There are indications that the US is inclined ...</td>\n",
              "      <td>Salman Bashir</td>\n",
              "      <td>[Q7405401]</td>\n",
              "      <td>2020-01-28 09:24:00</td>\n",
              "      <td>3</td>\n",
              "      <td>[[Salman Bashir, 0.8075], [None, 0.1925]]</td>\n",
              "      <td>[http://articles.economictimes.indiatimes.com/...</td>\n",
              "      <td>E</td>\n",
              "    </tr>\n",
              "    <tr>\n",
              "      <th>46262</th>\n",
              "      <td>2020-04-06-053986</td>\n",
              "      <td>Videos and stories from #Guangzhou are appalli...</td>\n",
              "      <td>Tibor Nagy</td>\n",
              "      <td>[Q1214529, Q1214530, Q56065706, Q7800491, Q780...</td>\n",
              "      <td>2020-04-06 08:17:33</td>\n",
              "      <td>1</td>\n",
              "      <td>[[Tibor Nagy, 0.8909], [None, 0.1091]]</td>\n",
              "      <td>[http://www.africanews.com/2020/04/15/coronavi...</td>\n",
              "      <td>E</td>\n",
              "    </tr>\n",
              "    <tr>\n",
              "      <th>46263</th>\n",
              "      <td>2020-01-15-109764</td>\n",
              "      <td>What makes this hard is that it is possible th...</td>\n",
              "      <td>Rick Fisher</td>\n",
              "      <td>[Q7000915, Q7331387, Q7331389]</td>\n",
              "      <td>2020-01-15 11:39:28</td>\n",
              "      <td>1</td>\n",
              "      <td>[[Rick Fisher, 0.5479], [None, 0.4521]]</td>\n",
              "      <td>[https://www.theepochtimes.com/wages-and-warfa...</td>\n",
              "      <td>E</td>\n",
              "    </tr>\n",
              "  </tbody>\n",
              "</table>\n",
              "<p>46264 rows × 9 columns</p>\n",
              "</div>"
            ],
            "text/plain": [
              "                 quoteID  ... phase\n",
              "0      2020-02-07-008586  ...     E\n",
              "1      2020-03-03-009635  ...     E\n",
              "2      2020-04-09-018179  ...     E\n",
              "3      2020-01-24-035543  ...     E\n",
              "4      2020-04-09-028183  ...     E\n",
              "...                  ...  ...   ...\n",
              "46259  2020-03-02-055278  ...     E\n",
              "46260  2020-02-27-070818  ...     E\n",
              "46261  2020-01-28-085486  ...     E\n",
              "46262  2020-04-06-053986  ...     E\n",
              "46263  2020-01-15-109764  ...     E\n",
              "\n",
              "[46264 rows x 9 columns]"
            ]
          },
          "metadata": {},
          "execution_count": 117
        }
      ]
    },
    {
      "cell_type": "markdown",
      "metadata": {
        "id": "Z72tioVXq8GP"
      },
      "source": [
        "# 2. Speakers analysis"
      ]
    },
    {
      "cell_type": "markdown",
      "metadata": {
        "id": "TDIAfe8Pr1h2"
      },
      "source": [
        "## 2.1 Relevant speaker attributes"
      ]
    },
    {
      "cell_type": "markdown",
      "metadata": {
        "id": "shEM_wgMmHmc"
      },
      "source": [
        "First we do not keep all information about each speaker but only the name(`label`),the nationality (`nationality`), the ethnic group (`ethnic_group`), the political party they are associated with (`party`), the occupation (`occupation`) and the main QID using to label them (`id`)."
      ]
    },
    {
      "cell_type": "code",
      "metadata": {
        "id": "6zNEqT2auOdw",
        "colab": {
          "base_uri": "https://localhost:8080/",
          "height": 204
        },
        "outputId": "d560ff00-8e16-4d3e-e665-4ad825171018"
      },
      "source": [
        "#attributes of the speaker, relative to his id\n",
        "speaker_attributes = pd.read_parquet('/content/drive/MyDrive/Project datasets/speaker_attributes.parquet', engine='pyarrow', columns= ['label','nationality', 'ethnic_group', 'party','id', 'occupation'] )\n",
        "speaker_attributes.head()"
      ],
      "execution_count": 118,
      "outputs": [
        {
          "output_type": "execute_result",
          "data": {
            "text/html": [
              "<div>\n",
              "<style scoped>\n",
              "    .dataframe tbody tr th:only-of-type {\n",
              "        vertical-align: middle;\n",
              "    }\n",
              "\n",
              "    .dataframe tbody tr th {\n",
              "        vertical-align: top;\n",
              "    }\n",
              "\n",
              "    .dataframe thead th {\n",
              "        text-align: right;\n",
              "    }\n",
              "</style>\n",
              "<table border=\"1\" class=\"dataframe\">\n",
              "  <thead>\n",
              "    <tr style=\"text-align: right;\">\n",
              "      <th></th>\n",
              "      <th>label</th>\n",
              "      <th>nationality</th>\n",
              "      <th>ethnic_group</th>\n",
              "      <th>party</th>\n",
              "      <th>id</th>\n",
              "      <th>occupation</th>\n",
              "    </tr>\n",
              "  </thead>\n",
              "  <tbody>\n",
              "    <tr>\n",
              "      <th>0</th>\n",
              "      <td>George Washington</td>\n",
              "      <td>[Q161885, Q30]</td>\n",
              "      <td>None</td>\n",
              "      <td>[Q327591]</td>\n",
              "      <td>Q23</td>\n",
              "      <td>[Q82955, Q189290, Q131512, Q1734662, Q294126, ...</td>\n",
              "    </tr>\n",
              "    <tr>\n",
              "      <th>1</th>\n",
              "      <td>Douglas Adams</td>\n",
              "      <td>[Q145]</td>\n",
              "      <td>[Q7994501]</td>\n",
              "      <td>None</td>\n",
              "      <td>Q42</td>\n",
              "      <td>[Q214917, Q28389, Q6625963, Q4853732, Q1884422...</td>\n",
              "    </tr>\n",
              "    <tr>\n",
              "      <th>2</th>\n",
              "      <td>Paul Otlet</td>\n",
              "      <td>[Q31]</td>\n",
              "      <td>None</td>\n",
              "      <td>None</td>\n",
              "      <td>Q1868</td>\n",
              "      <td>[Q36180, Q40348, Q182436, Q1265807, Q205375, Q...</td>\n",
              "    </tr>\n",
              "    <tr>\n",
              "      <th>3</th>\n",
              "      <td>George W. Bush</td>\n",
              "      <td>[Q30]</td>\n",
              "      <td>None</td>\n",
              "      <td>[Q29468]</td>\n",
              "      <td>Q207</td>\n",
              "      <td>[Q82955, Q15982858, Q18814623, Q1028181, Q1408...</td>\n",
              "    </tr>\n",
              "    <tr>\n",
              "      <th>4</th>\n",
              "      <td>Diego Velázquez</td>\n",
              "      <td>[Q29]</td>\n",
              "      <td>None</td>\n",
              "      <td>None</td>\n",
              "      <td>Q297</td>\n",
              "      <td>[Q1028181]</td>\n",
              "    </tr>\n",
              "  </tbody>\n",
              "</table>\n",
              "</div>"
            ],
            "text/plain": [
              "               label  ...                                         occupation\n",
              "0  George Washington  ...  [Q82955, Q189290, Q131512, Q1734662, Q294126, ...\n",
              "1      Douglas Adams  ...  [Q214917, Q28389, Q6625963, Q4853732, Q1884422...\n",
              "2         Paul Otlet  ...  [Q36180, Q40348, Q182436, Q1265807, Q205375, Q...\n",
              "3     George W. Bush  ...  [Q82955, Q15982858, Q18814623, Q1028181, Q1408...\n",
              "4    Diego Velázquez  ...                                         [Q1028181]\n",
              "\n",
              "[5 rows x 6 columns]"
            ]
          },
          "metadata": {},
          "execution_count": 118
        }
      ]
    },
    {
      "cell_type": "markdown",
      "metadata": {
        "id": "JTuKvKRH5a0O"
      },
      "source": [
        "Then we take only the speakers that appear in our filtered dataset **quotes_df**."
      ]
    },
    {
      "cell_type": "code",
      "metadata": {
        "id": "3gYph-CAXsTg"
      },
      "source": [
        "#create table of all qids of people that are in quotes_df\n",
        "qids_quotes = []\n",
        "for qids in quotes_df[\"qids\"]:\n",
        "  for qid in qids:\n",
        "    qids_quotes.append(qid)\n",
        "qids_quotes = pd.DataFrame(qids_quotes, columns=['id'])"
      ],
      "execution_count": 119,
      "outputs": []
    },
    {
      "cell_type": "code",
      "metadata": {
        "id": "aR13JOnucxMu",
        "colab": {
          "base_uri": "https://localhost:8080/",
          "height": 204
        },
        "outputId": "2eb8ab9b-0246-4735-c9a8-37ec07a7646d"
      },
      "source": [
        "#We do the intersection to retrieve only the speakers of our quotes_df\n",
        "speakers = pd.merge(speaker_attributes, qids_quotes, how='inner', on=['id']).drop_duplicates(subset=['id'])\n",
        "speakers.head()"
      ],
      "execution_count": 120,
      "outputs": [
        {
          "output_type": "execute_result",
          "data": {
            "text/html": [
              "<div>\n",
              "<style scoped>\n",
              "    .dataframe tbody tr th:only-of-type {\n",
              "        vertical-align: middle;\n",
              "    }\n",
              "\n",
              "    .dataframe tbody tr th {\n",
              "        vertical-align: top;\n",
              "    }\n",
              "\n",
              "    .dataframe thead th {\n",
              "        text-align: right;\n",
              "    }\n",
              "</style>\n",
              "<table border=\"1\" class=\"dataframe\">\n",
              "  <thead>\n",
              "    <tr style=\"text-align: right;\">\n",
              "      <th></th>\n",
              "      <th>label</th>\n",
              "      <th>nationality</th>\n",
              "      <th>ethnic_group</th>\n",
              "      <th>party</th>\n",
              "      <th>id</th>\n",
              "      <th>occupation</th>\n",
              "    </tr>\n",
              "  </thead>\n",
              "  <tbody>\n",
              "    <tr>\n",
              "      <th>0</th>\n",
              "      <td>George W. Bush</td>\n",
              "      <td>[Q30]</td>\n",
              "      <td>None</td>\n",
              "      <td>[Q29468]</td>\n",
              "      <td>Q207</td>\n",
              "      <td>[Q82955, Q15982858, Q18814623, Q1028181, Q1408...</td>\n",
              "    </tr>\n",
              "    <tr>\n",
              "      <th>3</th>\n",
              "      <td>Narendra Modi</td>\n",
              "      <td>[Q668]</td>\n",
              "      <td>[Q1282294, Q6889284]</td>\n",
              "      <td>[Q10230]</td>\n",
              "      <td>Q1058</td>\n",
              "      <td>[Q82955, Q36180, Q7019111, Q10429346]</td>\n",
              "    </tr>\n",
              "    <tr>\n",
              "      <th>76</th>\n",
              "      <td>Ban Ki-moon</td>\n",
              "      <td>[Q884]</td>\n",
              "      <td>[Q484464]</td>\n",
              "      <td>[Q327591]</td>\n",
              "      <td>Q1253</td>\n",
              "      <td>[Q82955, Q193391]</td>\n",
              "    </tr>\n",
              "    <tr>\n",
              "      <th>80</th>\n",
              "      <td>Justin Chadwick</td>\n",
              "      <td>[Q145]</td>\n",
              "      <td>None</td>\n",
              "      <td>None</td>\n",
              "      <td>Q3671</td>\n",
              "      <td>[Q33999, Q10800557, Q2526255, Q2059704, Q10798...</td>\n",
              "    </tr>\n",
              "    <tr>\n",
              "      <th>81</th>\n",
              "      <td>Mitt Romney</td>\n",
              "      <td>[Q30]</td>\n",
              "      <td>None</td>\n",
              "      <td>[Q29468]</td>\n",
              "      <td>Q4496</td>\n",
              "      <td>[Q82955, Q15978655, Q43845, Q15980158, Q219477]</td>\n",
              "    </tr>\n",
              "  </tbody>\n",
              "</table>\n",
              "</div>"
            ],
            "text/plain": [
              "              label  ...                                         occupation\n",
              "0    George W. Bush  ...  [Q82955, Q15982858, Q18814623, Q1028181, Q1408...\n",
              "3     Narendra Modi  ...              [Q82955, Q36180, Q7019111, Q10429346]\n",
              "76      Ban Ki-moon  ...                                  [Q82955, Q193391]\n",
              "80  Justin Chadwick  ...  [Q33999, Q10800557, Q2526255, Q2059704, Q10798...\n",
              "81      Mitt Romney  ...    [Q82955, Q15978655, Q43845, Q15980158, Q219477]\n",
              "\n",
              "[5 rows x 6 columns]"
            ]
          },
          "metadata": {},
          "execution_count": 120
        }
      ]
    },
    {
      "cell_type": "markdown",
      "metadata": {
        "id": "OYSAszNDod6t"
      },
      "source": [
        "We found out that the QID *Q30* represents the american nationality. So we are looking to know how many americans we have in our retrieved quotes.\n",
        "We do the same analysis with white peaple (*Q235155*) and people whith asian background (*Q4058325*)."
      ]
    },
    {
      "cell_type": "code",
      "metadata": {
        "id": "dl8osjA6FH7H"
      },
      "source": [
        "#return max of element in a column a row can have\n",
        "def max_element(column):\n",
        "  max = 0;\n",
        "  for e in column:\n",
        "    if e is not None:\n",
        "      if(len(e) > max):\n",
        "        max = len(e)\n",
        "        qids = e\n",
        "  return [max, qids]"
      ],
      "execution_count": 121,
      "outputs": []
    },
    {
      "cell_type": "code",
      "metadata": {
        "id": "NTdVcZD-3hzb",
        "colab": {
          "base_uri": "https://localhost:8080/"
        },
        "outputId": "60684789-29fc-4d5e-eb46-4ab634129801"
      },
      "source": [
        "#test how many nationalities someone can have at most\n",
        "max_nat = max_element(speakers.nationality)\n",
        "print(\"The maximum number of nationalities of a speaker in our quotes is \", max_nat[0],\" nationalities. Their QID are:\", max_nat[1])"
      ],
      "execution_count": 122,
      "outputs": [
        {
          "output_type": "stream",
          "name": "stdout",
          "text": [
            "The maximum number of nationalities of a speaker in our quotes is  5  nationalities. Their QID are: ['Q654342' 'Q750583' 'Q217169' 'Q890120' 'Q954']\n"
          ]
        }
      ]
    },
    {
      "cell_type": "code",
      "metadata": {
        "id": "akScfM61Mqcd",
        "colab": {
          "base_uri": "https://localhost:8080/"
        },
        "outputId": "c9b730bc-4bac-4243-d564-55cb7c1e5353"
      },
      "source": [
        "#test how many ethnies someone can have at most\n",
        "max_ethn = max_element(speakers.ethnic_group)\n",
        "print(\"The maximum number of ethnies of a speaker in our quotes is \",max_ethn[0], \"ethnies. Their qids are \", max_ethn[1])"
      ],
      "execution_count": 123,
      "outputs": [
        {
          "output_type": "stream",
          "name": "stdout",
          "text": [
            "The maximum number of ethnies of a speaker in our quotes is  6 ethnies. Their qids are  ['Q39086965' 'Q49085' 'Q6127409' 'Q7681242' 'Q2643509' 'Q6935055']\n"
          ]
        }
      ]
    },
    {
      "cell_type": "code",
      "metadata": {
        "id": "-dK5EB4vG1ON"
      },
      "source": [
        "#take only rows than contain a specific qid in a specific column\n",
        "def get_rows_by_qids(column, qid, max_element_in_cell):\n",
        "  result = speakers.loc[speakers[column].str[0] == qid]\n",
        "  for i in range(1, max_element_in_cell):\n",
        "    result = pd.concat([result, speakers.loc[speakers[column].str[i] == qid]], \n",
        "                                ignore_index=True)\n",
        "  return result"
      ],
      "execution_count": 124,
      "outputs": []
    },
    {
      "cell_type": "code",
      "metadata": {
        "id": "9Hyvolbhchs-",
        "colab": {
          "base_uri": "https://localhost:8080/",
          "height": 204
        },
        "outputId": "fe8f630f-6f85-430f-ad61-a43e5bf48d07"
      },
      "source": [
        "#Q30 = Americans\n",
        "american_speakers = get_rows_by_qids(\"nationality\", \"Q30\", max_nat[0])\n",
        "american_speakers.head()"
      ],
      "execution_count": 125,
      "outputs": [
        {
          "output_type": "execute_result",
          "data": {
            "text/html": [
              "<div>\n",
              "<style scoped>\n",
              "    .dataframe tbody tr th:only-of-type {\n",
              "        vertical-align: middle;\n",
              "    }\n",
              "\n",
              "    .dataframe tbody tr th {\n",
              "        vertical-align: top;\n",
              "    }\n",
              "\n",
              "    .dataframe thead th {\n",
              "        text-align: right;\n",
              "    }\n",
              "</style>\n",
              "<table border=\"1\" class=\"dataframe\">\n",
              "  <thead>\n",
              "    <tr style=\"text-align: right;\">\n",
              "      <th></th>\n",
              "      <th>label</th>\n",
              "      <th>nationality</th>\n",
              "      <th>ethnic_group</th>\n",
              "      <th>party</th>\n",
              "      <th>id</th>\n",
              "      <th>occupation</th>\n",
              "    </tr>\n",
              "  </thead>\n",
              "  <tbody>\n",
              "    <tr>\n",
              "      <th>0</th>\n",
              "      <td>George W. Bush</td>\n",
              "      <td>[Q30]</td>\n",
              "      <td>None</td>\n",
              "      <td>[Q29468]</td>\n",
              "      <td>Q207</td>\n",
              "      <td>[Q82955, Q15982858, Q18814623, Q1028181, Q1408...</td>\n",
              "    </tr>\n",
              "    <tr>\n",
              "      <th>1</th>\n",
              "      <td>Mitt Romney</td>\n",
              "      <td>[Q30]</td>\n",
              "      <td>None</td>\n",
              "      <td>[Q29468]</td>\n",
              "      <td>Q4496</td>\n",
              "      <td>[Q82955, Q15978655, Q43845, Q15980158, Q219477]</td>\n",
              "    </tr>\n",
              "    <tr>\n",
              "      <th>2</th>\n",
              "      <td>David Paterson</td>\n",
              "      <td>[Q30]</td>\n",
              "      <td>[Q49085]</td>\n",
              "      <td>[Q29552]</td>\n",
              "      <td>Q11674</td>\n",
              "      <td>[Q82955]</td>\n",
              "    </tr>\n",
              "    <tr>\n",
              "      <th>3</th>\n",
              "      <td>Jimmy Carter</td>\n",
              "      <td>[Q30]</td>\n",
              "      <td>None</td>\n",
              "      <td>[Q29552]</td>\n",
              "      <td>Q23685</td>\n",
              "      <td>[Q10669499, Q193391, Q6625963, Q82955, Q131512...</td>\n",
              "    </tr>\n",
              "    <tr>\n",
              "      <th>4</th>\n",
              "      <td>Todd Young</td>\n",
              "      <td>[Q30]</td>\n",
              "      <td>None</td>\n",
              "      <td>[Q29468]</td>\n",
              "      <td>Q25483</td>\n",
              "      <td>[Q82955, Q40348, Q47064, Q15978655]</td>\n",
              "    </tr>\n",
              "  </tbody>\n",
              "</table>\n",
              "</div>"
            ],
            "text/plain": [
              "            label  ...                                         occupation\n",
              "0  George W. Bush  ...  [Q82955, Q15982858, Q18814623, Q1028181, Q1408...\n",
              "1     Mitt Romney  ...    [Q82955, Q15978655, Q43845, Q15980158, Q219477]\n",
              "2  David Paterson  ...                                           [Q82955]\n",
              "3    Jimmy Carter  ...  [Q10669499, Q193391, Q6625963, Q82955, Q131512...\n",
              "4      Todd Young  ...                [Q82955, Q40348, Q47064, Q15978655]\n",
              "\n",
              "[5 rows x 6 columns]"
            ]
          },
          "metadata": {},
          "execution_count": 125
        }
      ]
    },
    {
      "cell_type": "code",
      "metadata": {
        "id": "_Jc6TCTm5V8k",
        "colab": {
          "base_uri": "https://localhost:8080/",
          "height": 80
        },
        "outputId": "d2eae683-ce83-45cb-ce65-2b33573cf92a"
      },
      "source": [
        "#Q235155 = white people\n",
        "american_white_speakers = get_rows_by_qids(\"ethnic_group\", \"Q235155\", max_ethn[0])\n",
        "american_white_speakers.head()"
      ],
      "execution_count": 126,
      "outputs": [
        {
          "output_type": "execute_result",
          "data": {
            "text/html": [
              "<div>\n",
              "<style scoped>\n",
              "    .dataframe tbody tr th:only-of-type {\n",
              "        vertical-align: middle;\n",
              "    }\n",
              "\n",
              "    .dataframe tbody tr th {\n",
              "        vertical-align: top;\n",
              "    }\n",
              "\n",
              "    .dataframe thead th {\n",
              "        text-align: right;\n",
              "    }\n",
              "</style>\n",
              "<table border=\"1\" class=\"dataframe\">\n",
              "  <thead>\n",
              "    <tr style=\"text-align: right;\">\n",
              "      <th></th>\n",
              "      <th>label</th>\n",
              "      <th>nationality</th>\n",
              "      <th>ethnic_group</th>\n",
              "      <th>party</th>\n",
              "      <th>id</th>\n",
              "      <th>occupation</th>\n",
              "    </tr>\n",
              "  </thead>\n",
              "  <tbody>\n",
              "    <tr>\n",
              "      <th>0</th>\n",
              "      <td>Bill Clinton</td>\n",
              "      <td>[Q30]</td>\n",
              "      <td>[Q235155]</td>\n",
              "      <td>[Q29552]</td>\n",
              "      <td>Q1124</td>\n",
              "      <td>[Q82955, Q40348, Q193391, Q18814623, Q36180, Q...</td>\n",
              "    </tr>\n",
              "  </tbody>\n",
              "</table>\n",
              "</div>"
            ],
            "text/plain": [
              "          label  ...                                         occupation\n",
              "0  Bill Clinton  ...  [Q82955, Q40348, Q193391, Q18814623, Q36180, Q...\n",
              "\n",
              "[1 rows x 6 columns]"
            ]
          },
          "metadata": {},
          "execution_count": 126
        }
      ]
    },
    {
      "cell_type": "code",
      "metadata": {
        "id": "LEN1igcqTw1c",
        "colab": {
          "base_uri": "https://localhost:8080/",
          "height": 49
        },
        "outputId": "b88c2c61-9689-4c27-ea79-a17b8fad9e98"
      },
      "source": [
        "#Q4058325 = asian people\n",
        "asian_american_speakers = get_rows_by_qids(\"ethnic_group\", \"#Q4058325\", max_ethn[0])\n",
        "asian_american_speakers.head()"
      ],
      "execution_count": 127,
      "outputs": [
        {
          "output_type": "execute_result",
          "data": {
            "text/html": [
              "<div>\n",
              "<style scoped>\n",
              "    .dataframe tbody tr th:only-of-type {\n",
              "        vertical-align: middle;\n",
              "    }\n",
              "\n",
              "    .dataframe tbody tr th {\n",
              "        vertical-align: top;\n",
              "    }\n",
              "\n",
              "    .dataframe thead th {\n",
              "        text-align: right;\n",
              "    }\n",
              "</style>\n",
              "<table border=\"1\" class=\"dataframe\">\n",
              "  <thead>\n",
              "    <tr style=\"text-align: right;\">\n",
              "      <th></th>\n",
              "      <th>label</th>\n",
              "      <th>nationality</th>\n",
              "      <th>ethnic_group</th>\n",
              "      <th>party</th>\n",
              "      <th>id</th>\n",
              "      <th>occupation</th>\n",
              "    </tr>\n",
              "  </thead>\n",
              "  <tbody>\n",
              "  </tbody>\n",
              "</table>\n",
              "</div>"
            ],
            "text/plain": [
              "Empty DataFrame\n",
              "Columns: [label, nationality, ethnic_group, party, id, occupation]\n",
              "Index: []"
            ]
          },
          "metadata": {},
          "execution_count": 127
        }
      ]
    },
    {
      "cell_type": "code",
      "metadata": {
        "id": "Dxw_aUqCYzLJ",
        "colab": {
          "base_uri": "https://localhost:8080/"
        },
        "outputId": "a8e36392-ad43-4657-f2a5-a5f8fc7b2e76"
      },
      "source": [
        "print(\"We have\", american_speakers.shape[0], \"american native speakers in our retrieved quotes.\")\n",
        "print(\"We have\", american_white_speakers.shape[0], \"white american speakers in our retrieved quotes.\")\n",
        "print(\"We have\", asian_american_speakers.shape[0], \"asian american speakers in our retrieved quotes.\")"
      ],
      "execution_count": 128,
      "outputs": [
        {
          "output_type": "stream",
          "name": "stdout",
          "text": [
            "We have 4970 american native speakers in our retrieved quotes.\n",
            "We have 1 white american speakers in our retrieved quotes.\n",
            "We have 0 asian american speakers in our retrieved quotes.\n"
          ]
        }
      ]
    },
    {
      "cell_type": "markdown",
      "metadata": {
        "id": "YsgCM7uJrEWR"
      },
      "source": [
        "What we can conclude:    \n",
        "*   We have a lot of american speakers in our retrieved quotes.\n",
        "*   We have only one white american speaker and no asian american in our retrieved quotes. It seems that not all of the speakers have an ethnie specified.\n",
        "\n",
        "We will analyse quotations of american speakers and we will not focus on the ethnic groups.\n"
      ]
    },
    {
      "cell_type": "markdown",
      "metadata": {
        "id": "JzL_G7Dt-IEc"
      },
      "source": [
        "We decided to keep only quotes from american speakers."
      ]
    },
    {
      "cell_type": "code",
      "metadata": {
        "id": "bJNEjVt8_HE8",
        "colab": {
          "base_uri": "https://localhost:8080/"
        },
        "outputId": "4de969de-8d6a-4801-9441-7fcd8ed7cfaf"
      },
      "source": [
        "#test how many qids can a quote have at most\n",
        "max_element(quotes_df.qids)\n",
        "print(max, qids)"
      ],
      "execution_count": 129,
      "outputs": [
        {
          "output_type": "stream",
          "name": "stdout",
          "text": [
            "451 ['Q7000915', 'Q7331387', 'Q7331389']\n"
          ]
        }
      ]
    },
    {
      "cell_type": "code",
      "metadata": {
        "id": "bpGEftJdni20",
        "colab": {
          "base_uri": "https://localhost:8080/"
        },
        "outputId": "2a7667ad-f352-4f97-d0ab-1ce2925b33aa"
      },
      "source": [
        "#dataframe with all quotes that involve americans\n",
        "americans_speakers_quotes = quotes_df.loc[quotes_df['qids'].str[0].isin(american_speakers[\"id\"])]\n",
        "for i in range(1, 451):\n",
        "  americans_speakers_quotes = pd.concat([americans_speakers_quotes, \n",
        "                                 quotes_df.loc[quotes_df['qids'].str[i].isin(american_speakers[\"id\"])]], \n",
        "                                ignore_index=True)\n",
        "americans_speakers_quotes.shape"
      ],
      "execution_count": 130,
      "outputs": [
        {
          "output_type": "execute_result",
          "data": {
            "text/plain": [
              "(19113, 9)"
            ]
          },
          "metadata": {},
          "execution_count": 130
        }
      ]
    },
    {
      "cell_type": "code",
      "metadata": {
        "colab": {
          "base_uri": "https://localhost:8080/"
        },
        "id": "93gpNQXUx99w",
        "outputId": "ffc06ec9-4c64-438f-efec-5b82de0786af"
      },
      "source": [
        "americans_speaker_quotes = americans_speakers_quotes.drop_duplicates(subset=[\"quotation\"])\n",
        "print(americans_speaker_quotes.shape)"
      ],
      "execution_count": 131,
      "outputs": [
        {
          "output_type": "stream",
          "name": "stdout",
          "text": [
            "(13216, 9)\n"
          ]
        }
      ]
    },
    {
      "cell_type": "markdown",
      "metadata": {
        "id": "11nEQBN7_g31"
      },
      "source": [
        "We have a dataset of 13216 quotes attributed to Americans that is related to China."
      ]
    },
    {
      "cell_type": "markdown",
      "metadata": {
        "id": "PIho-jhDsXwo"
      },
      "source": [
        "## 2.2 organization of attributes"
      ]
    },
    {
      "cell_type": "markdown",
      "metadata": {
        "id": "jU3IbE-SnIBf"
      },
      "source": [
        "Then we will need the wikidata information about what each identifier QID correspond to."
      ]
    },
    {
      "cell_type": "code",
      "metadata": {
        "id": "NKDoQrogOiLN",
        "colab": {
          "base_uri": "https://localhost:8080/",
          "height": 204
        },
        "outputId": "34538295-c9ad-4ce4-bf69-9fc006e8696d"
      },
      "source": [
        "#what does QID correspond to\n",
        "wikidata_labels = pd.read_csv('/content/drive/MyDrive/Project datasets/wikidata_labels_descriptions_quotebank.csv.bz2', compression='bz2')\n",
        "wikidata_labels.head()"
      ],
      "execution_count": 132,
      "outputs": [
        {
          "output_type": "execute_result",
          "data": {
            "text/html": [
              "<div>\n",
              "<style scoped>\n",
              "    .dataframe tbody tr th:only-of-type {\n",
              "        vertical-align: middle;\n",
              "    }\n",
              "\n",
              "    .dataframe tbody tr th {\n",
              "        vertical-align: top;\n",
              "    }\n",
              "\n",
              "    .dataframe thead th {\n",
              "        text-align: right;\n",
              "    }\n",
              "</style>\n",
              "<table border=\"1\" class=\"dataframe\">\n",
              "  <thead>\n",
              "    <tr style=\"text-align: right;\">\n",
              "      <th></th>\n",
              "      <th>QID</th>\n",
              "      <th>Label</th>\n",
              "      <th>Description</th>\n",
              "    </tr>\n",
              "  </thead>\n",
              "  <tbody>\n",
              "    <tr>\n",
              "      <th>0</th>\n",
              "      <td>Q31</td>\n",
              "      <td>Belgium</td>\n",
              "      <td>country in western Europe</td>\n",
              "    </tr>\n",
              "    <tr>\n",
              "      <th>1</th>\n",
              "      <td>Q45</td>\n",
              "      <td>Portugal</td>\n",
              "      <td>country in southwestern Europe</td>\n",
              "    </tr>\n",
              "    <tr>\n",
              "      <th>2</th>\n",
              "      <td>Q75</td>\n",
              "      <td>Internet</td>\n",
              "      <td>global system of connected computer networks</td>\n",
              "    </tr>\n",
              "    <tr>\n",
              "      <th>3</th>\n",
              "      <td>Q148</td>\n",
              "      <td>People's Republic of China</td>\n",
              "      <td>sovereign state in East Asia</td>\n",
              "    </tr>\n",
              "    <tr>\n",
              "      <th>4</th>\n",
              "      <td>Q155</td>\n",
              "      <td>Brazil</td>\n",
              "      <td>country in South America</td>\n",
              "    </tr>\n",
              "  </tbody>\n",
              "</table>\n",
              "</div>"
            ],
            "text/plain": [
              "    QID  ...                                   Description\n",
              "0   Q31  ...                     country in western Europe\n",
              "1   Q45  ...                country in southwestern Europe\n",
              "2   Q75  ...  global system of connected computer networks\n",
              "3  Q148  ...                  sovereign state in East Asia\n",
              "4  Q155  ...                      country in South America\n",
              "\n",
              "[5 rows x 3 columns]"
            ]
          },
          "metadata": {},
          "execution_count": 132
        }
      ]
    },
    {
      "cell_type": "code",
      "metadata": {
        "id": "peRlljl355z4"
      },
      "source": [
        "#Find the label corresponding to a QID\n",
        "#return -1 if the QID is not available in 'wikidata_labels'\n",
        "def QID_to_attribute(QID):\n",
        "  if((wikidata_labels[wikidata_labels.QID == QID]).empty):\n",
        "    return -1\n",
        "  return (wikidata_labels[wikidata_labels.QID == QID])[\"Label\"].iat[0]"
      ],
      "execution_count": 133,
      "outputs": []
    },
    {
      "cell_type": "markdown",
      "metadata": {
        "id": "TKZSVU5MsYyr"
      },
      "source": [
        "##2.3 Multiple qids for one speaker"
      ]
    },
    {
      "cell_type": "markdown",
      "metadata": {
        "id": "ZpPw0jB4AiO3"
      },
      "source": [
        "As said, some quotes have multiple qids to reference only one speaker. We found out that one of this qids is correct and the other ones are either not available in wikidata_labels (and wikidata online) or referencing someone with the exact same name. Let's see how many quotes have this problem => if not too many, we can fix this manually."
      ]
    },
    {
      "cell_type": "code",
      "metadata": {
        "id": "aO8gqDypsxn_",
        "colab": {
          "base_uri": "https://localhost:8080/"
        },
        "outputId": "210b8c4b-4406-4195-83a9-e4a67536bc8a"
      },
      "source": [
        "#how many quotes have multiple qids for the same author\n",
        "count = 0\n",
        "for q in quotes_df.qids:\n",
        "  if len(q) >= 2:\n",
        "    count+=1\n",
        "print(count)"
      ],
      "execution_count": 134,
      "outputs": [
        {
          "output_type": "stream",
          "name": "stdout",
          "text": [
            "8639\n"
          ]
        }
      ]
    },
    {
      "cell_type": "markdown",
      "metadata": {
        "id": "vFYL3yqTFfO0"
      },
      "source": [
        "There is 8639 quotes with the problem stated above => too much to fix it manually. For now we will only consider the first one. If the first one is not available in the dataset, we take the next one and so on."
      ]
    },
    {
      "cell_type": "code",
      "metadata": {
        "id": "_A3tY8dQrbkX"
      },
      "source": [
        "#get the speaker of a specific quote\n",
        "def qid_speaker(quoteID):\n",
        "  quote = quotes_df[quotes_df.quoteID == quoteID]\n",
        "  qids = quote.qids[0]\n",
        "  qid = \"\"\n",
        "  for q in qids:\n",
        "    if(QID_to_attribute(q) != -1):\n",
        "      qid = q\n",
        "  if qid == \"\":\n",
        "    return \"Qid of speaker not available in the dataset\"\n",
        "  return qid\n"
      ],
      "execution_count": 135,
      "outputs": []
    },
    {
      "cell_type": "markdown",
      "metadata": {
        "id": "OKXgVuN_rhTO"
      },
      "source": [
        "# 3. Additional dataset: Empath"
      ]
    },
    {
      "cell_type": "markdown",
      "metadata": {
        "id": "IPY7gENxrxuV"
      },
      "source": [
        "We want know to analyse the sentiment of quotes related to China thanks to an appropriate pre-trained model, **Empath**."
      ]
    },
    {
      "cell_type": "code",
      "metadata": {
        "id": "WL1GdP1aCCL4",
        "colab": {
          "base_uri": "https://localhost:8080/"
        },
        "outputId": "67cb4143-ba99-4b65-9ddf-a1fe918c0ea6"
      },
      "source": [
        "!pip install empath"
      ],
      "execution_count": 136,
      "outputs": [
        {
          "output_type": "stream",
          "name": "stdout",
          "text": [
            "Collecting empath\n",
            "  Downloading empath-0.89.tar.gz (57 kB)\n",
            "\u001b[?25l\r\u001b[K     |█████▊                          | 10 kB 16.0 MB/s eta 0:00:01\r\u001b[K     |███████████▍                    | 20 kB 7.8 MB/s eta 0:00:01\r\u001b[K     |█████████████████               | 30 kB 8.8 MB/s eta 0:00:01\r\u001b[K     |██████████████████████▊         | 40 kB 7.8 MB/s eta 0:00:01\r\u001b[K     |████████████████████████████▍   | 51 kB 5.5 MB/s eta 0:00:01\r\u001b[K     |████████████████████████████████| 57 kB 2.5 MB/s \n",
            "\u001b[?25hRequirement already satisfied: requests in /usr/local/lib/python3.7/dist-packages (from empath) (2.23.0)\n",
            "Requirement already satisfied: certifi>=2017.4.17 in /usr/local/lib/python3.7/dist-packages (from requests->empath) (2021.10.8)\n",
            "Requirement already satisfied: urllib3!=1.25.0,!=1.25.1,<1.26,>=1.21.1 in /usr/local/lib/python3.7/dist-packages (from requests->empath) (1.24.3)\n",
            "Requirement already satisfied: chardet<4,>=3.0.2 in /usr/local/lib/python3.7/dist-packages (from requests->empath) (3.0.4)\n",
            "Requirement already satisfied: idna<3,>=2.5 in /usr/local/lib/python3.7/dist-packages (from requests->empath) (2.10)\n",
            "Building wheels for collected packages: empath\n",
            "  Building wheel for empath (setup.py) ... \u001b[?25l\u001b[?25hdone\n",
            "  Created wheel for empath: filename=empath-0.89-py3-none-any.whl size=57821 sha256=1c736b0e61904b47e493fe28888b1dd5d641acf33d41de02ee5fffefbf5ec9a7\n",
            "  Stored in directory: /root/.cache/pip/wheels/2b/78/a8/37d4505eeae79807f4b5565a193f7cfcee892137ad37591029\n",
            "Successfully built empath\n",
            "Installing collected packages: empath\n",
            "Successfully installed empath-0.89\n"
          ]
        }
      ]
    },
    {
      "cell_type": "code",
      "metadata": {
        "id": "ZvE6EQHiCETR"
      },
      "source": [
        "import matplotlib.pyplot as plt\n",
        "\n",
        "%matplotlib inline\n",
        "\n",
        "from empath import Empath"
      ],
      "execution_count": 137,
      "outputs": []
    },
    {
      "cell_type": "code",
      "metadata": {
        "id": "HqpQZLSkCJUg"
      },
      "source": [
        "lexicon = Empath()"
      ],
      "execution_count": 138,
      "outputs": []
    },
    {
      "cell_type": "code",
      "metadata": {
        "id": "xRPTckaeCLbX",
        "colab": {
          "base_uri": "https://localhost:8080/"
        },
        "outputId": "1e7d6030-a442-43f1-ab85-0db91d687d78"
      },
      "source": [
        "# Get list of all current categories\n",
        "print(list(lexicon.analyze(americans_speaker_quotes['quotation'][0], normalize=True).keys()))"
      ],
      "execution_count": 139,
      "outputs": [
        {
          "output_type": "stream",
          "name": "stdout",
          "text": [
            "['help', 'office', 'dance', 'money', 'wedding', 'domestic_work', 'sleep', 'medical_emergency', 'cold', 'hate', 'cheerfulness', 'aggression', 'occupation', 'envy', 'anticipation', 'family', 'vacation', 'crime', 'attractive', 'masculine', 'prison', 'health', 'pride', 'dispute', 'nervousness', 'government', 'weakness', 'horror', 'swearing_terms', 'leisure', 'suffering', 'royalty', 'wealthy', 'tourism', 'furniture', 'school', 'magic', 'beach', 'journalism', 'morning', 'banking', 'social_media', 'exercise', 'night', 'kill', 'blue_collar_job', 'art', 'ridicule', 'play', 'computer', 'college', 'optimism', 'stealing', 'real_estate', 'home', 'divine', 'sexual', 'fear', 'irritability', 'superhero', 'business', 'driving', 'pet', 'childish', 'cooking', 'exasperation', 'religion', 'hipster', 'internet', 'surprise', 'reading', 'worship', 'leader', 'independence', 'movement', 'body', 'noise', 'eating', 'medieval', 'zest', 'confusion', 'water', 'sports', 'death', 'healing', 'legend', 'heroic', 'celebration', 'restaurant', 'violence', 'programming', 'dominant_heirarchical', 'military', 'neglect', 'swimming', 'exotic', 'love', 'hiking', 'communication', 'hearing', 'order', 'sympathy', 'hygiene', 'weather', 'anonymity', 'trust', 'ancient', 'deception', 'fabric', 'air_travel', 'fight', 'dominant_personality', 'music', 'vehicle', 'politeness', 'toy', 'farming', 'meeting', 'war', 'speaking', 'listen', 'urban', 'shopping', 'disgust', 'fire', 'tool', 'phone', 'gain', 'sound', 'injury', 'sailing', 'rage', 'science', 'work', 'appearance', 'valuable', 'warmth', 'youth', 'sadness', 'fun', 'emotional', 'joy', 'affection', 'traveling', 'fashion', 'ugliness', 'lust', 'shame', 'torment', 'economics', 'anger', 'politics', 'ship', 'clothing', 'car', 'strength', 'technology', 'breaking', 'shape_and_size', 'power', 'white_collar_job', 'animal', 'party', 'terrorism', 'smell', 'disappointment', 'poor', 'plant', 'pain', 'beauty', 'timidity', 'philosophy', 'negotiate', 'negative_emotion', 'cleaning', 'messaging', 'competing', 'law', 'friends', 'payment', 'achievement', 'alcohol', 'liquid', 'feminine', 'weapon', 'children', 'monster', 'ocean', 'giving', 'contentment', 'writing', 'rural', 'positive_emotion', 'musical']\n"
          ]
        }
      ]
    },
    {
      "cell_type": "code",
      "metadata": {
        "id": "BKiuUDIcCOCm"
      },
      "source": [
        "all_categories = ['help', 'office', 'dance', 'money', 'wedding', 'domestic_work', 'sleep', 'medical_emergency', 'cold', 'hate', 'cheerfulness', 'aggression', 'occupation', 'envy', 'anticipation', 'family', 'vacation', 'crime', 'attractive', 'masculine', 'prison', 'health', 'pride', 'dispute', 'nervousness', 'government', 'weakness', 'horror', 'swearing_terms', 'leisure', 'suffering', 'royalty', 'wealthy', 'tourism', 'furniture', 'school', 'magic', 'beach', 'journalism', 'morning', 'banking', 'social_media', 'exercise', 'night', 'kill', 'blue_collar_job', 'art', 'ridicule', 'play', 'computer', 'college', 'optimism', 'stealing', 'real_estate', 'home', 'divine', 'sexual', 'fear', 'irritability', 'superhero', 'business', 'driving', 'pet', 'childish', 'cooking', 'exasperation', 'religion', 'hipster', 'internet', 'surprise', 'reading', 'worship', 'leader', 'independence', 'movement', 'body', 'noise', 'eating', 'medieval', 'zest', 'confusion', 'water', 'sports', 'death', 'healing', 'legend', 'heroic', 'celebration', 'restaurant', 'violence', 'programming', 'dominant_heirarchical', 'military', 'neglect', 'swimming', 'exotic', 'love', 'hiking', 'communication', 'hearing', 'order', 'sympathy', 'hygiene', 'weather', 'anonymity', 'trust', 'ancient', 'deception', 'fabric', 'air_travel', 'fight', 'dominant_personality', 'music', 'vehicle', 'politeness', 'toy', 'farming', 'meeting', 'war', 'speaking', 'listen', 'urban', 'shopping', 'disgust', 'fire', 'tool', 'phone', 'gain', 'sound', 'injury', 'sailing', 'rage', 'science', 'work', 'appearance', 'valuable', 'warmth', 'youth', 'sadness', 'fun', 'emotional', 'joy', 'affection', 'traveling', 'fashion', 'ugliness', 'lust', 'shame', 'torment', 'economics', 'anger', 'politics', 'ship', 'clothing', 'car', 'strength', 'technology', 'breaking', 'shape_and_size', 'power', 'white_collar_job', 'animal', 'party', 'terrorism', 'smell', 'disappointment', 'poor', 'plant', 'pain', 'beauty', 'timidity', 'philosophy', 'negotiate', 'negative_emotion', 'cleaning', 'messaging', 'competing', 'law', 'friends', 'payment', 'achievement', 'alcohol', 'liquid', 'feminine', 'weapon', 'children', 'monster', 'ocean', 'giving', 'contentment', 'writing', 'rural', 'positive_emotion', 'musical']"
      ],
      "execution_count": 140,
      "outputs": []
    },
    {
      "cell_type": "markdown",
      "metadata": {
        "id": "0Ci0mVGVDoVB"
      },
      "source": [
        "The output produced by running Empath on a quote is a dictionary associating a float value to each of the above categories. Looking at these categories, we can define some as being \"positive\" or \"negative\" in the context of media coverage. We split these categories manually below. "
      ]
    },
    {
      "cell_type": "markdown",
      "metadata": {
        "id": "deKByXm1KIi-"
      },
      "source": [
        "Furthermore, we associate each of these categories with a weight, which prevent situations where equal mentions of `war` (classified as negative) and `wedding` (classified as positive) \"cancel\" each other out and are considered to be of equal emotional strength. To determine these weights, we sort the categories by order of magnitude (i.e. `war` is worse than `dispute`, which is worse than `confusion`). We then create a matrix where each element compares the line (the positive element) to the column (the negative element); if the positive emotion outweighs the negative emotion, the element is set to 1, and 0 otherwise. Then, the weights of the positive emotions are equal to the number of negative emotions they outweigh, and the weights of the negative emotions are set to `w-1` where `w` is the weight of the positive category that outweighs them."
      ]
    },
    {
      "cell_type": "code",
      "metadata": {
        "id": "aYvBYGhYCS50"
      },
      "source": [
        "negative_categories = {\n",
        "    'death': 29,\n",
        "    'war': 29,\n",
        "    'kill': 29,\n",
        "    'suffering': 29,\n",
        "    'aggression': 29,\n",
        "    'terrorism': 29,\n",
        "    'crime': 28,\n",
        "    'rage': 25,\n",
        "    'hate': 25,\n",
        "    'pain': 24,\n",
        "    'monster': 24,\n",
        "    'weapon': 24,\n",
        "    'military': 24,\n",
        "    'violence': 24,\n",
        "    'anger': 24,\n",
        "    'horror': 22,\n",
        "    'dispute': 22,\n",
        "    'fight': 22,\n",
        "    'disgust': 22,\n",
        "    'fear': 21,\n",
        "    'ridicule': 21,\n",
        "    'stealing': 21,\n",
        "    'prison': 21,\n",
        "    'neglect': 21,\n",
        "    'injury': 20,\n",
        "    'dominant_heirarchical': 20,\n",
        "    'torment': 20,\n",
        "    'deception': 19,\n",
        "    'shame': 19,\n",
        "    'irritability': 19,\n",
        "    'sadness': 18,\n",
        "    'weakness': 13,\n",
        "    'envy': 13,\n",
        "    'poor': 12,\n",
        "    'breaking': 12,\n",
        "    'negative_emotion': 10,\n",
        "    'ugliness': 8,\n",
        "    'fire': 8,\n",
        "    'confusion': 7,\n",
        "    'swearing_terms': 7,\n",
        "    'competing': 7,\n",
        "    'disappointment': 7,\n",
        "    'medieval': 7,\n",
        "    'nervousness': 4,\n",
        "    'exasperation': 4,\n",
        "    'worship': 3,\n",
        "    'childish': 3,\n",
        "    'wealthy': 3,\n",
        "    'pride': 2,\n",
        "    'cold': 2,\n",
        "}"
      ],
      "execution_count": 141,
      "outputs": []
    },
    {
      "cell_type": "code",
      "metadata": {
        "id": "hKgjd2FuCVPq"
      },
      "source": [
        "positive_categories = {\n",
        "    'divine': 30,\n",
        "    'heroic': 30,\n",
        "    'leader': 29,\n",
        "    'independence': 26,\n",
        "    'strength': 25,\n",
        "    'trust': 25,\n",
        "    'achievement': 25,\n",
        "    'valuable': 25,\n",
        "    'love': 23,\n",
        "    'celebration': 22,\n",
        "    'joy': 21,\n",
        "    'beauty': 20,\n",
        "    'leisure': 19,\n",
        "    'family': 14,\n",
        "    'affection': 14,\n",
        "    'attractive': 14,\n",
        "    'optimism': 14,\n",
        "    'friends': 14,\n",
        "    'cheerfulness': 13,\n",
        "    'positive_emotion': 11,\n",
        "    'sympathy': 11,\n",
        "    'politeness': 9,\n",
        "    'contentment': 9,\n",
        "    'communication': 8,\n",
        "    'magic': 5,\n",
        "    'gain': 5,\n",
        "    'giving': 5,\n",
        "    'zest': 4,\n",
        "    'wedding': 3,\n",
        "    'play': 0,\n",
        "    'toy': 0,\n",
        "}"
      ],
      "execution_count": 142,
      "outputs": []
    },
    {
      "cell_type": "code",
      "metadata": {
        "id": "J7qLqujkCW82"
      },
      "source": [
        "neutral_categories = set(all_categories) - (set(negative_categories.keys()).union(set(positive_categories.keys())))\n",
        "\n",
        "# Make sure there is no overlap between negative and positive categories:\n",
        "assert(not set(negative_categories.keys()).intersection(set(positive_categories.keys())))"
      ],
      "execution_count": 143,
      "outputs": []
    },
    {
      "cell_type": "code",
      "metadata": {
        "id": "ycyohvGGCYFj"
      },
      "source": [
        "def remove_categories(result_in, predicate):\n",
        "  \"\"\"Remove all categories from a result that satisfy a given predicate.<br>\n",
        "     ex: `remove_categories(result, lambda k, v: v < 0.5)` removes all categories\n",
        "     where the value is less than 0.5\"\"\"\n",
        "  result = result_in.copy()\n",
        "  for k, v in list(result.items()):\n",
        "    if (predicate(k, v)):\n",
        "      del result[k]\n",
        "  return result"
      ],
      "execution_count": 144,
      "outputs": []
    },
    {
      "cell_type": "code",
      "metadata": {
        "id": "Uz1jqgdDCZmX"
      },
      "source": [
        "def weigh_result(categories, result):\n",
        "  \"\"\"Multiply the results of an Empath analysis by the weight of their categories\"\"\"\n",
        "  res = result.copy()\n",
        "  for k, v in res.items():\n",
        "    res[k] = v * categories[k]\n",
        "\n",
        "  return res"
      ],
      "execution_count": 145,
      "outputs": []
    },
    {
      "cell_type": "code",
      "metadata": {
        "id": "YEQIiA5WCbJw",
        "colab": {
          "base_uri": "https://localhost:8080/"
        },
        "outputId": "912d6a6d-58b1-450f-f3b9-9b4dcee50efc"
      },
      "source": [
        "res = []\n",
        "analysis_categories = negative_categories.copy()\n",
        "analysis_categories.update(positive_categories)\n",
        "\n",
        "category_is_null = lambda k, v: v == 0\n",
        "\n",
        "# Analyze quotes using both negative and positive categories\n",
        "with tqdm(total=len(americans_speaker_quotes['quotation'])) as pbar:\n",
        "  for ind, quote in enumerate(americans_speaker_quotes['quotation']):\n",
        "    # We purposefully do not normalize the results as we want them to reflect\n",
        "    # how influential the model considers the category to be, generally speaking,\n",
        "    # not how influential the category is within the quote.\n",
        "    res.append(lexicon.analyze(quote, categories=analysis_categories, normalize=False))\n",
        "\n",
        "    # Removal of all categories where the value is 0 (is this necessary ?)\n",
        "    res[ind] = remove_categories(res[ind], category_is_null)\n",
        "\n",
        "    # Apply the weights to all the results\n",
        "    res[ind] = weigh_result(analysis_categories, res[ind])\n",
        "    \n",
        "    pbar.update(1)"
      ],
      "execution_count": 146,
      "outputs": [
        {
          "output_type": "stream",
          "name": "stderr",
          "text": [
            "100%|██████████| 13216/13216 [00:46<00:00, 287.30it/s]\n"
          ]
        }
      ]
    },
    {
      "cell_type": "markdown",
      "metadata": {
        "id": "2SYTXk7tKOqv"
      },
      "source": [
        "Now that we have the results of the Empath analysis on all considered quotes, we can proceed to some visualizations. We start by computing the mean of each category across all quotes:"
      ]
    },
    {
      "cell_type": "code",
      "metadata": {
        "id": "4k92GbM8Cc3-",
        "colab": {
          "base_uri": "https://localhost:8080/"
        },
        "outputId": "0d2058ba-45c4-47af-924b-db3d32b49d4b"
      },
      "source": [
        "# Get the average of every category for every quote\n",
        "category_entries = {}\n",
        "category_sum = {}\n",
        "\n",
        "for cat in all_categories:\n",
        "  category_entries.update({cat: 0})\n",
        "  category_sum.update({cat: 0})\n",
        "\n",
        "for result in res:\n",
        "  for key, value in result.items():\n",
        "    category_entries.update({key: category_entries[key] + 1})\n",
        "    category_sum.update({key: category_sum[key] + value})\n",
        "\n",
        "category_averages = {}\n",
        "n = len(res)\n",
        "for key, value in category_sum.items():\n",
        "  category_averages.update({key: value / n})\n",
        "\n",
        "category_averages"
      ],
      "execution_count": 147,
      "outputs": [
        {
          "output_type": "execute_result",
          "data": {
            "text/plain": [
              "{'achievement': 2.426982445520581,\n",
              " 'affection': 0.3802966101694915,\n",
              " 'aggression': 2.4444612590799033,\n",
              " 'air_travel': 0.0,\n",
              " 'alcohol': 0.0,\n",
              " 'ancient': 0.0,\n",
              " 'anger': 0.48849878934624696,\n",
              " 'animal': 0.0,\n",
              " 'anonymity': 0.0,\n",
              " 'anticipation': 0.0,\n",
              " 'appearance': 0.0,\n",
              " 'art': 0.0,\n",
              " 'attractive': 0.4491525423728814,\n",
              " 'banking': 0.0,\n",
              " 'beach': 0.0,\n",
              " 'beauty': 0.32990314769975787,\n",
              " 'blue_collar_job': 0.0,\n",
              " 'body': 0.0,\n",
              " 'breaking': 0.4957627118644068,\n",
              " 'business': 0.0,\n",
              " 'car': 0.0,\n",
              " 'celebration': 1.2901029055690072,\n",
              " 'cheerfulness': 0.1603359564164649,\n",
              " 'childish': 0.08784806295399515,\n",
              " 'children': 0.0,\n",
              " 'cleaning': 0.0,\n",
              " 'clothing': 0.0,\n",
              " 'cold': 0.07808716707021791,\n",
              " 'college': 0.0,\n",
              " 'communication': 1.2330508474576272,\n",
              " 'competing': 0.4290254237288136,\n",
              " 'computer': 0.0,\n",
              " 'confusion': 0.3119703389830508,\n",
              " 'contentment': 0.16343825665859565,\n",
              " 'cooking': 0.0,\n",
              " 'crime': 1.5423728813559323,\n",
              " 'dance': 0.0,\n",
              " 'death': 1.18931598062954,\n",
              " 'deception': 0.8482142857142857,\n",
              " 'disappointment': 0.15677966101694915,\n",
              " 'disgust': 0.286319612590799,\n",
              " 'dispute': 1.9942493946731235,\n",
              " 'divine': 1.0101392251815982,\n",
              " 'domestic_work': 0.0,\n",
              " 'dominant_heirarchical': 1.414951573849879,\n",
              " 'dominant_personality': 0.0,\n",
              " 'driving': 0.0,\n",
              " 'eating': 0.0,\n",
              " 'economics': 0.0,\n",
              " 'emotional': 0.0,\n",
              " 'envy': 0.11213680387409201,\n",
              " 'exasperation': 0.026937046004842615,\n",
              " 'exercise': 0.0,\n",
              " 'exotic': 0.0,\n",
              " 'fabric': 0.0,\n",
              " 'family': 0.6991525423728814,\n",
              " 'farming': 0.0,\n",
              " 'fashion': 0.0,\n",
              " 'fear': 0.8183262711864406,\n",
              " 'feminine': 0.0,\n",
              " 'fight': 2.3022094430992737,\n",
              " 'fire': 0.13861985472154964,\n",
              " 'friends': 0.909957627118644,\n",
              " 'fun': 0.0,\n",
              " 'furniture': 0.0,\n",
              " 'gain': 0.7513619854721549,\n",
              " 'giving': 0.7475786924939467,\n",
              " 'government': 0.0,\n",
              " 'hate': 1.2447033898305084,\n",
              " 'healing': 0.0,\n",
              " 'health': 0.0,\n",
              " 'hearing': 0.0,\n",
              " 'help': 0.0,\n",
              " 'heroic': 1.3710653753026634,\n",
              " 'hiking': 0.0,\n",
              " 'hipster': 0.0,\n",
              " 'home': 0.0,\n",
              " 'horror': 0.4477905569007264,\n",
              " 'hygiene': 0.0,\n",
              " 'independence': 0.9108656174334141,\n",
              " 'injury': 1.3771186440677967,\n",
              " 'internet': 0.0,\n",
              " 'irritability': 0.08194612590799032,\n",
              " 'journalism': 0.0,\n",
              " 'joy': 0.24947033898305085,\n",
              " 'kill': 1.4570217917675545,\n",
              " 'law': 0.0,\n",
              " 'leader': 3.745687046004843,\n",
              " 'legend': 0.0,\n",
              " 'leisure': 0.7073244552058111,\n",
              " 'liquid': 0.0,\n",
              " 'listen': 0.0,\n",
              " 'love': 1.0302663438256658,\n",
              " 'lust': 0.0,\n",
              " 'magic': 0.07944915254237288,\n",
              " 'masculine': 0.0,\n",
              " 'medical_emergency': 0.0,\n",
              " 'medieval': 0.028601694915254237,\n",
              " 'meeting': 0.0,\n",
              " 'messaging': 0.0,\n",
              " 'military': 1.12590799031477,\n",
              " 'money': 0.0,\n",
              " 'monster': 0.2397094430992736,\n",
              " 'morning': 0.0,\n",
              " 'movement': 0.0,\n",
              " 'music': 0.0,\n",
              " 'musical': 0.0,\n",
              " 'negative_emotion': 1.7213983050847457,\n",
              " 'neglect': 0.3591101694915254,\n",
              " 'negotiate': 0.0,\n",
              " 'nervousness': 0.14709443099273609,\n",
              " 'night': 0.0,\n",
              " 'noise': 0.0,\n",
              " 'occupation': 0.0,\n",
              " 'ocean': 0.0,\n",
              " 'office': 0.0,\n",
              " 'optimism': 1.3972457627118644,\n",
              " 'order': 0.0,\n",
              " 'pain': 1.383777239709443,\n",
              " 'party': 0.0,\n",
              " 'payment': 0.0,\n",
              " 'pet': 0.0,\n",
              " 'philosophy': 0.0,\n",
              " 'phone': 0.0,\n",
              " 'plant': 0.0,\n",
              " 'play': 0.0,\n",
              " 'politeness': 0.12189769975786925,\n",
              " 'politics': 0.0,\n",
              " 'poor': 0.6927966101694916,\n",
              " 'positive_emotion': 1.5381355932203389,\n",
              " 'power': 0.0,\n",
              " 'pride': 0.05160411622276029,\n",
              " 'prison': 0.9295550847457628,\n",
              " 'programming': 0.0,\n",
              " 'rage': 0.2667221549636804,\n",
              " 'reading': 0.0,\n",
              " 'real_estate': 0.0,\n",
              " 'religion': 0.0,\n",
              " 'restaurant': 0.0,\n",
              " 'ridicule': 0.13983050847457626,\n",
              " 'royalty': 0.0,\n",
              " 'rural': 0.0,\n",
              " 'sadness': 0.7899515738498789,\n",
              " 'sailing': 0.0,\n",
              " 'school': 0.0,\n",
              " 'science': 0.0,\n",
              " 'sexual': 0.0,\n",
              " 'shame': 0.7518916464891041,\n",
              " 'shape_and_size': 0.0,\n",
              " 'ship': 0.0,\n",
              " 'shopping': 0.0,\n",
              " 'sleep': 0.0,\n",
              " 'smell': 0.0,\n",
              " 'social_media': 0.0,\n",
              " 'sound': 0.0,\n",
              " 'speaking': 0.0,\n",
              " 'sports': 0.0,\n",
              " 'stealing': 1.2155720338983051,\n",
              " 'strength': 2.9698849878934626,\n",
              " 'suffering': 1.6654812348668282,\n",
              " 'superhero': 0.0,\n",
              " 'surprise': 0.0,\n",
              " 'swearing_terms': 0.08633474576271187,\n",
              " 'swimming': 0.0,\n",
              " 'sympathy': 0.19060230024213076,\n",
              " 'technology': 0.0,\n",
              " 'terrorism': 2.4488498789346247,\n",
              " 'timidity': 0.0,\n",
              " 'tool': 0.0,\n",
              " 'torment': 0.33595641646489105,\n",
              " 'tourism': 0.0,\n",
              " 'toy': 0.0,\n",
              " 'traveling': 0.0,\n",
              " 'trust': 3.227148910411622,\n",
              " 'ugliness': 0.03753026634382567,\n",
              " 'urban': 0.0,\n",
              " 'vacation': 0.0,\n",
              " 'valuable': 3.3765889830508473,\n",
              " 'vehicle': 0.0,\n",
              " 'violence': 2.3861985472154963,\n",
              " 'war': 2.5783141646489103,\n",
              " 'warmth': 0.0,\n",
              " 'water': 0.0,\n",
              " 'weakness': 0.29312953995157387,\n",
              " 'wealthy': 0.1382415254237288,\n",
              " 'weapon': 0.6029055690072639,\n",
              " 'weather': 0.0,\n",
              " 'wedding': 0.19294794188861986,\n",
              " 'white_collar_job': 0.0,\n",
              " 'work': 0.0,\n",
              " 'worship': 0.03927058111380145,\n",
              " 'writing': 0.0,\n",
              " 'youth': 0.0,\n",
              " 'zest': 0.0475181598062954}"
            ]
          },
          "metadata": {},
          "execution_count": 147
        }
      ]
    },
    {
      "cell_type": "code",
      "metadata": {
        "id": "ebooqVfCCfCq"
      },
      "source": [
        "final_cat_averages = remove_categories(category_averages, category_is_null)\n",
        "pos_cat_averages = dict(sorted(remove_categories(final_cat_averages, lambda key, value: key in negative_categories).items(), key=lambda x: x[1]))\n",
        "neg_cat_averages = dict(sorted(remove_categories(final_cat_averages, lambda key, value: key in positive_categories).items(), key=lambda x: x[1]))"
      ],
      "execution_count": 148,
      "outputs": []
    },
    {
      "cell_type": "code",
      "metadata": {
        "id": "RhxZX6awCgYU"
      },
      "source": [
        "def plot_analysis_histogram(quote, analysis):\n",
        "  colors = ['b' if (cat in positive_categories) else 'r' for cat in list(analysis.keys())]\n",
        "  plt.bar(*zip(*analysis.items()), color=colors)\n",
        "  plt.xlabel('Category')\n",
        "  plt.ylabel('Connotation value (measured by Empath)')\n",
        "  plt.xticks(list(analysis.keys()), rotation='vertical')\n",
        "  plt.suptitle(quote)\n",
        "  \n",
        "  plt.show()"
      ],
      "execution_count": 149,
      "outputs": []
    },
    {
      "cell_type": "markdown",
      "metadata": {
        "id": "xWBc9QkqCkFS"
      },
      "source": [
        "We use the following cell to check that the analyses provided by the model and our weighing scheme are consistent with our expectations and observations."
      ]
    },
    {
      "cell_type": "code",
      "metadata": {
        "id": "I3_V0iBWCmr_",
        "colab": {
          "base_uri": "https://localhost:8080/",
          "height": 456
        },
        "outputId": "ca736282-657f-4714-9b47-56828442a42f"
      },
      "source": [
        "from random import randint\n",
        "import textwrap\n",
        "\n",
        "i = randint(0, len(americans_speaker_quotes['quotation']))\n",
        "print(textwrap.fill(americans_speaker_quotes['quotation'][i], width=80))\n",
        "if (not res[i]):\n",
        "  print('\\nEmpath did not attribute any of the considered categories to this quote.')\n",
        "else:\n",
        "  plot_analysis_histogram(\"Analysis\", res[i])"
      ],
      "execution_count": 150,
      "outputs": [
        {
          "output_type": "stream",
          "name": "stdout",
          "text": [
            "I would like to go down to a lower number because I want to either bring those\n",
            "troops home so they can refit and retrain for other missions, or be redeployed\n",
            "to the Indo-Pacific to face off our greatest challenge in terms of the great\n",
            "power competition -- that's vis-a-vis China,\n"
          ]
        },
        {
          "output_type": "display_data",
          "data": {
            "image/png": "[encoded data removed]",
            "text/plain": [
              "<Figure size 432x288 with 1 Axes>"
            ]
          },
          "metadata": {
            "needs_background": "light"
          }
        }
      ]
    },
    {
      "cell_type": "markdown",
      "metadata": {
        "id": "7ZnavaMZKb_t"
      },
      "source": [
        "Finally, we plot the weighted results obtained through Empath:"
      ]
    },
    {
      "cell_type": "code",
      "metadata": {
        "id": "dXkGiXh4Co25",
        "colab": {
          "base_uri": "https://localhost:8080/",
          "height": 383
        },
        "outputId": "88aaa5ba-70fc-44b3-b00b-3caf71b49888"
      },
      "source": [
        "plot_analysis_histogram(\"All positive quotes\", pos_cat_averages)"
      ],
      "execution_count": 151,
      "outputs": [
        {
          "output_type": "display_data",
          "data": {
            "image/png": "[encoded data removed]",
            "text/plain": [
              "<Figure size 432x288 with 1 Axes>"
            ]
          },
          "metadata": {
            "needs_background": "light"
          }
        }
      ]
    },
    {
      "cell_type": "code",
      "metadata": {
        "id": "nnCpDR0zCvOt",
        "colab": {
          "base_uri": "https://localhost:8080/",
          "height": 410
        },
        "outputId": "67a4ae37-88ee-4f99-ebcb-1e89e5cc1e21"
      },
      "source": [
        "plot_analysis_histogram(\"All negative quotes\", neg_cat_averages)"
      ],
      "execution_count": 152,
      "outputs": [
        {
          "output_type": "display_data",
          "data": {
            "image/png": "[encoded data removed]",
            "text/plain": [
              "<Figure size 432x288 with 1 Axes>"
            ]
          },
          "metadata": {
            "needs_background": "light"
          }
        }
      ]
    },
    {
      "cell_type": "markdown",
      "metadata": {
        "id": "xyVrz_JHKe00"
      },
      "source": [
        "The following cell gives us a better idea of the prevalence of positive or negative ideas across the quotes we have filtered:\n"
      ]
    },
    {
      "cell_type": "code",
      "metadata": {
        "id": "yi-9buV5Eje6",
        "colab": {
          "base_uri": "https://localhost:8080/"
        },
        "outputId": "7e759b1a-740e-461e-9030-13f93fb018c2"
      },
      "source": [
        "pos_sum = 0\n",
        "neg_sum = 0\n",
        "\n",
        "for key, value in neg_cat_averages.items():\n",
        "  neg_sum += value\n",
        "\n",
        "for key, value in pos_cat_averages.items():\n",
        "  pos_sum += value\n",
        "\n",
        "print('Sum of positive categories: {pos:.4f}\\nSum of negative categories: {neg:.4f}'.format(pos=pos_sum, neg=neg_sum))"
      ],
      "execution_count": 153,
      "outputs": [
        {
          "output_type": "stream",
          "name": "stdout",
          "text": [
            "Sum of positive categories: 31.7076\n",
            "Sum of negative categories: 40.2304\n"
          ]
        }
      ]
    }
  ]
}